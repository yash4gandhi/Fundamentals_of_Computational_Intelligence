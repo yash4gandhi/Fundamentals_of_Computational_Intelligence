{
  "cells": [
    {
      "metadata": {
        "trusted": true
      },
      "cell_type": "code",
      "source": "def membership_function(interior_damage,exterior_damage):\n \n    if interior_damage < 100:\n        M[0][0] = (100-interior_damage)/100\n        M[0][1] = interior_damage/100     \n    elif interior_damage <200:\n        M[0][1] = (200-interior_damage)/100\n        M[0][2] = (interior_damage-100)/100\n    if exterior_damage < 100:\n        M[1][0] = (100-exterior_damage)/100\n        M[1][1] = exterior_damage/100     \n    elif exterior_damage <200:\n        M[1][1] = (100-exterior_damage)/100\n        M[1][2] = (exterior_damage-100)/100\n\n\n\ndef decision(Timing):\n    \n    if Timing == 'Very Short':\n        print(\"Repairing time is Very Short\")\n        z1 = z2 = 20 - 20*max_value\n        \n    elif Timing == 'Short':\n        print(\"Repairing time is Short\")\n        z1 = 20*max_value\n        z2 = 30 - 20*max_value\n        \n    elif Timing == 'Moderate' :\n        print(\"Repairing time is Moderate\")\n        z1 = 20*max_value + 20   \n        z2 = 50 - 20*max_value \n        \n    elif Timing == 'Long' :\n        print(\"Repairing time is Long\")\n        z1 = 20*max_value + 30\n        z2 = 80 - 30*max_value  \n        \n    elif Timing == 'Very Long' :\n        print(\"Repairing time is Very Long\")\n        z1 = z2 = 40*max_value + 40\n        \n    time = (z1+z2)/2\n    print(\"Repairing time is \",time, \"minutes\")\n    \n\nfrom array import *\n\ninterior_damage = 150\nexterior_damage = 50\n\nM = [[0, 0, 0], [0, 0, 0]]\nMax_Array = [0,0,0,0]\n \n\nmembership_function(interior_damage,exterior_damage)\n\nif ((interior_damage<100) and (exterior_damage <100)):\n    Max_Array[0] = min(M[0][0],M[1][0])\n    Max_Array[1] = min(M[0][0],M[1][1])\n    Max_Array[2] = min(M[0][1],M[1][0])\n    Max_Array[3] = min(M[0][1],M[1][1])\n    max_value = max(Max_Array)\n    \n    if max_value == Max_Array[0] :\n        decision('Very Short')\n    elif max_value == Max_Array[1] or max_value == Max_Array[3]:\n        decision('Moderate')\n    else:\n        decision('Short')\n    \nelif ((interior_damage<100) and (exterior_damage >100)):\n    Max_Array[0] = min(M[0][0],M[1][1])\n    Max_Array[1] = min(M[0][0],M[1][2])\n    Max_Array[2] = min(M[0][1],M[1][1])\n    Max_Array[3] = min(M[0][1],M[1][2])\n    max_value = max(Max_Array)\n    \n    if max_value == Max_Array[0] or max_value == Max_Array[2]:\n        decision('Moderate')\n    else:\n        decision('Long')\n    \nelif ((interior_damage>100) and (exterior_damage <100)):\n    Max_Array[0] = min(M[0][1],M[1][0])\n    Max_Array[1] = min(M[0][1],M[1][1])\n    Max_Array[2] = min(M[0][2],M[1][0])\n    Max_Array[3] = min(M[0][2],M[1][1])\n    max_value = max(Max_Array)\n\t\n    if max_value == Max_Array[0] :\n        decision('Short')\n    elif max_value == Max_Array[1] or max_value == Max_Array[2]:\n        decision('Moderate')\n    else:\n        decision('Long')\n    \nelif ((interior_damage>100) and (exterior_damage >100)):\n    Max_Array[0] = min(M[0][1],M[1][1])\n    Max_Array[1] = min(M[0][1],M[1][2])\n    Max_Array[2] = min(M[0][2],M[1][1])\n    Max_Array[3] = min(M[0][2],M[1][2])\n    max_value = max(Max_Array)\n   \n    if max_value == Max_Array[0] :\n        decision('Moderate')\n    elif max_value == Max_Array[1] or max_value == Max_Array[2]:\n        decision('Long')\n    else:\n        decision('Very Long')\n\n",
      "execution_count": 4,
      "outputs": [
        {
          "output_type": "stream",
          "text": "Repairing time is Short\nRepairing time is  15.0 minutes\n",
          "name": "stdout"
        }
      ]
    },
    {
      "metadata": {
        "trusted": true
      },
      "cell_type": "code",
      "source": "",
      "execution_count": null,
      "outputs": []
    }
  ],
  "metadata": {
    "kernelspec": {
      "name": "python36",
      "display_name": "Python 3.6",
      "language": "python"
    },
    "language_info": {
      "mimetype": "text/x-python",
      "nbconvert_exporter": "python",
      "name": "python",
      "pygments_lexer": "ipython3",
      "version": "3.6.6",
      "file_extension": ".py",
      "codemirror_mode": {
        "version": 3,
        "name": "ipython"
      }
    }
  },
  "nbformat": 4,
  "nbformat_minor": 2
}